{
 "cells": [
  {
   "cell_type": "markdown",
   "metadata": {},
   "source": [
    "Weather Observations\n",
    "\n",
    "1. The weather is supposedly hottest at the equator, which is 0 degrees latitude. The data says that the hottest temperature is closer to the 40 degrees latitude.\n",
    "\n",
    "2. Much like the temperature and latitude observation, cloudiness increases closer to the equator but highest near the 40 degrees latitude mark. The maximum temperature vs latitude and cloudiness vs. latitude plots are similar.\n",
    "\n",
    "3. There is no correlations with latitude and wind speed. Most wind speeds are 10 or less. The highest wind speed is at around -30 degrees."
   ]
  },
  {
   "cell_type": "code",
   "execution_count": null,
   "metadata": {},
   "outputs": [],
   "source": []
  }
 ],
 "metadata": {
  "kernelspec": {
   "display_name": "Python 3",
   "language": "python",
   "name": "python3"
  },
  "language_info": {
   "codemirror_mode": {
    "name": "ipython",
    "version": 3
   },
   "file_extension": ".py",
   "mimetype": "text/x-python",
   "name": "python",
   "nbconvert_exporter": "python",
   "pygments_lexer": "ipython3",
   "version": "3.7.6"
  }
 },
 "nbformat": 4,
 "nbformat_minor": 4
}
